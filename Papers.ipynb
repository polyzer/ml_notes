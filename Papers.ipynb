{
 "cells": [
  {
   "cell_type": "markdown",
   "metadata": {},
   "source": [
    "By architecture"
   ]
  },
  {
   "cell_type": "markdown",
   "metadata": {},
   "source": [
    "# GAN\n",
    "\n",
    "# Autoencoders\n",
    "[Autoencoders](http://ufldl.stanford.edu/tutorial/unsupervised/Autoencoders/)  \n",
    "[Adversarial Latent Autoencoders!!!!](https://arxiv.org/abs/2004.04467)"
   ]
  },
  {
   "cell_type": "markdown",
   "metadata": {},
   "source": [
    "By tasks"
   ]
  },
  {
   "cell_type": "markdown",
   "metadata": {},
   "source": [
    "\n",
    "# Reinforcement Learning\n",
    "\n",
    "[AutoML-Zero: Evolving Machine Learning Algorithms From Scratch](https://arxiv.org/pdf/2003.03384.pdf)  \n",
    "[CURL: Contrastive Unsupervised Representation Learning for Sample-Efficient Reinforcement Learning](https://github.com/MishaLaskin/curl)  \n",
    "[Reinforcement Learning with Augmented Data](https://arxiv.org/abs/2004.14990)\n",
    "\n",
    "## RL text generation\n",
    "[Generating Text with Deep Reinforcement Learning](https://arxiv.org/pdf/1510.09202.pdf)  \n",
    "[Toward Diverse Text Generation with Inverse Reinforcement Learning](https://arxiv.org/abs/1804.11258)  \n",
    "[Reinforcement Learning for NLP]()  \n",
    "[Paraphrase Generation with Deep Reinforcement Learning](https://www.aclweb.org/anthology/D18-1421.pdf)\n",
    "\n",
    "## RL in motion reconstruction\n",
    "[SFV: Reinforcement Learning of Physical Skills from Videos](https://github.com/akanazawa/motion_reconstruction)\n",
    "\n",
    "# NLP\n",
    "[Stanford NLP CS224 2018 Full course slides](https://web.stanford.edu/class/archive/cs/cs224n/cs224n.1184/lectures/)\n",
    "\n",
    "[A deep generative model trifecta: Three advances that work towards harnessing large-scale power](https://www.microsoft.com/en-us/research/blog/a-deep-generative-model-trifecta-three-advances-that-work-towards-harnessing-large-scale-power/)\n",
    "\n",
    "[Megatron-LM: Training Multi-Billion Parameter Language Models Using Model Parallelism](https://arxiv.org/abs/1909.08053)\n",
    "\n",
    "[Turing-NLG: A 17-billion-parameter language model by Microsoft](https://www.microsoft.com/en-us/research/blog/turing-nlg-a-17-billion-parameter-language-model-by-microsoft/)"
   ]
  },
  {
   "cell_type": "code",
   "execution_count": null,
   "metadata": {},
   "outputs": [],
   "source": []
  }
 ],
 "metadata": {
  "kernelspec": {
   "display_name": "Python 3",
   "language": "python",
   "name": "python3"
  },
  "language_info": {
   "codemirror_mode": {
    "name": "ipython",
    "version": 3
   },
   "file_extension": ".py",
   "mimetype": "text/x-python",
   "name": "python",
   "nbconvert_exporter": "python",
   "pygments_lexer": "ipython3",
   "version": "3.7.5"
  }
 },
 "nbformat": 4,
 "nbformat_minor": 4
}
