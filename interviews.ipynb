{
 "cells": [
  {
   "cell_type": "markdown",
   "metadata": {},
   "source": [
    "Computer Vision"
   ]
  },
  {
   "cell_type": "code",
   "execution_count": null,
   "metadata": {},
   "outputs": [],
   "source": [
    "Работал в следующих областях: "
   ]
  },
  {
   "cell_type": "markdown",
   "metadata": {},
   "source": [
    "Object Detection (YOLOv3) - множественные лица в помещении"
   ]
  },
  {
   "cell_type": "markdown",
   "metadata": {},
   "source": [
    "Object Segmentation (Mask R-CNN,)"
   ]
  },
  {
   "cell_type": "markdown",
   "metadata": {},
   "source": [
    "Object Detection/Face Feature Extraction - получение landmarks JS YOLO"
   ]
  },
  {
   "cell_type": "code",
   "execution_count": 1,
   "metadata": {},
   "outputs": [
    {
     "ename": "SyntaxError",
     "evalue": "invalid syntax (<ipython-input-1-9a881d6a7569>, line 1)",
     "output_type": "error",
     "traceback": [
      "\u001b[1;36m  File \u001b[1;32m\"<ipython-input-1-9a881d6a7569>\"\u001b[1;36m, line \u001b[1;32m1\u001b[0m\n\u001b[1;33m    OCR (YOLOv3, CRAFT, keras_ocr):\u001b[0m\n\u001b[1;37m                                   ^\u001b[0m\n\u001b[1;31mSyntaxError\u001b[0m\u001b[1;31m:\u001b[0m invalid syntax\n"
     ]
    }
   ],
   "source": [
    "OCR (YOLOv3, CRAFT, keras_ocr):\n",
    "Models: VGG-16, ResNet-50.\n",
    "Datasets: Bosphorus, FaceWarehouse3D, \n",
    "Tools: sklearn, Caffe, Keras, keras_ocr.\n",
    "распознавание ценников с телефона."
   ]
  },
  {
   "cell_type": "markdown",
   "metadata": {},
   "source": [
    "Face Classification 3D:\n",
    "Models: VGG-16, ResNet-50.\n",
    "Datasets: Bosphorus, FaceWarehouse3D, \n",
    "Tools: sklearn, Caffe, Keras.\n",
    "Использовались "
   ]
  }
 ],
 "metadata": {
  "kernelspec": {
   "display_name": "Python 3",
   "language": "python",
   "name": "python3"
  },
  "language_info": {
   "codemirror_mode": {
    "name": "ipython",
    "version": 3
   },
   "file_extension": ".py",
   "mimetype": "text/x-python",
   "name": "python",
   "nbconvert_exporter": "python",
   "pygments_lexer": "ipython3",
   "version": "3.7.5"
  }
 },
 "nbformat": 4,
 "nbformat_minor": 4
}
