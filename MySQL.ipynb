{
 "cells": [
  {
   "cell_type": "markdown",
   "metadata": {},
   "source": [
    "MySQL"
   ]
  },
  {
   "cell_type": "code",
   "execution_count": null,
   "metadata": {},
   "outputs": [],
   "source": []
  },
  {
   "cell_type": "markdown",
   "metadata": {},
   "source": [
    "**Index**\n",
    "\n",
    "Индексы в MySQL (Mysql indexes) — отличный инструмент для оптимизации SQL запросов. Чтобы понять, как они работают, посмотрим на работу с данными без них.\n",
    "\n",
    "Таблицы MySQL — это обычные файлы.\n",
    "Итак, есть две проблемы при чтении данных:\n",
    "    - Низкая скорость чтения файлов из-за расположения блоков в разных частях диска (фрагментация).\n",
    "    - Большое количество операций сравнения для поиска нужных данных.\n",
    "\n",
    "Индекс — это и есть отсортированный набор значений. В MySQL индексы всегда строятся для какой-то конкретной колонки. Например, мы могли бы построить индекс для колонки age из примера.\n",
    "\n",
    "### Выбор индексов в MySQL\n",
    "\n",
    "* В самом простом случае, индекс необходимо создавать для тех колонок, которые присутствуют в условии **WHERE**.\n",
    "\n",
    "SELECT * FROM users WHERE age = 29\n",
    "\n",
    "Нам необходимо создать индекс на колонку age:\n",
    "\n",
    "**CREATE INDEX age ON users(age);**\n",
    "\n",
    "После этой операции MySQL начнет использовать индекс age для выполнения подобных запросов. Индекс будет использоваться и для выборок по диапазонам значений этой колонки:\n",
    "\n",
    "SELECT * FROM users WHERE age < 29\n",
    "\n",
    "Сортировка: для запросов с сортировкой по ключу - создаём индекс на колонку по которой происходит сортировка.\n",
    "\n",
    "Внутренности хранения индексов\n",
    "id | name   | age\n",
    "1  | Den    | 29\n",
    "2  | Alyona | 15\n",
    "3  | Putin  | 89\n",
    "4  | Petro  | 12"
   ]
  },
  {
   "cell_type": "code",
   "execution_count": null,
   "metadata": {},
   "outputs": [],
   "source": []
  }
 ],
 "metadata": {
  "kernelspec": {
   "display_name": "Python 3",
   "language": "python",
   "name": "python3"
  },
  "language_info": {
   "codemirror_mode": {
    "name": "ipython",
    "version": 3
   },
   "file_extension": ".py",
   "mimetype": "text/x-python",
   "name": "python",
   "nbconvert_exporter": "python",
   "pygments_lexer": "ipython3",
   "version": "3.7.5"
  }
 },
 "nbformat": 4,
 "nbformat_minor": 4
}
