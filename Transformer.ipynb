{
 "cells": [
  {
   "cell_type": "markdown",
   "metadata": {},
   "source": [
    "Transformer Architecture.\n",
    "In general terms Transformer consists of Encoder and Decoder parts.\n"
   ]
  },
  {
   "cell_type": "markdown",
   "metadata": {},
   "source": [
    "Attention:"
   ]
  },
  {
   "cell_type": "markdown",
   "metadata": {},
   "source": [
    "## Self-Attention.\n",
    "Calculation of Self-Attension consists of next parts:\n",
    "* 1) The first step in calculating self-attention is to create three vectors from each of the encoder’s input vectors (in this case, the embedding of each word). So for each word, we create a **Query vector, a Key vector, and a Value vector**. These vectors are created by multiplying the embedding by three matrices that we trained during the training process.\n",
    "\n",
    "Notice that these new vectors are smaller in dimension than the embedding vector. Their dimensionality is 64, while the embedding and encoder input/output vectors have dimensionality of 512. They don’t HAVE to be smaller, this is an architecture choice to make the computation of multiheaded attention (mostly) constant.\n",
    "\n",
    "Example:\n",
    "Input -> Embeddings (words to $X^1, ... , X^n$\n",
    "\n",
    "Embeddings -> $X1 \\cdot W^Q $  (product $Embeddings \\cdot W^Q\n",
    "matrix) -> query$\n",
    "\n",
    "Embeddings -> $X1 \\cdot W^K $  (product $Embeddings \\cdot W^K\n",
    "matrix) -> key$\n",
    "\n",
    "Embeddings -> $X1 \\cdot W^V $  (product $Embeddings \\cdot W^V\n",
    "matrix) -> value$\n",
    "\n",
    "* 2) The second step in calculating self-attention is to calculate a score. Say we’re calculating the self-attention for the first word in this example, “Thinking”. We need to score each word of the input sentence against this word. The score determines how much focus to place on other parts of the input sentence as we encode a word at a certain position.\n",
    "\n",
    "The score is calculated by taking the **dot product of the query vector with the key vector of the respective word we’re scoring**. So if we’re processing the self-attention for the word in position #1, the first score would be the dot product of q1 and k1. The second score would be the dot product of q1 and k2.\n",
    "\n",
    "* 3) The third and forth steps are to divide the scores by 8 (the square root of the dimension of the key vectors used in the paper – 64. This leads to having more stable gradients. There could be other possible values here, but this is the default), then pass the result through a softmax operation. **Softmax normalizes the scores so they’re all positive and add up to 1.**\n",
    "\n",
    "* 4) The fifth step is to multiply each value vector by the softmax score (in preparation to sum them up). The intuition here is to keep intact the values of the word(s) we want to focus on, and drown-out irrelevant words (by multiplying them by tiny numbers like 0.001, for example).\n",
    "\n",
    "* 5) The sixth step is to sum up the weighted value vectors. This produces the output of the self-attention layer at this position (for the first word)."
   ]
  },
  {
   "cell_type": "markdown",
   "metadata": {},
   "source": [
    "## Matrix Calculation of Self-Attention:\n",
    "* The first step is to calculate the **Query, Key, and Value** matrices. We do that by packing our embeddings into a matrix X, and multiplying it by the weight matrices we’ve trained ($W^Q, W^K, W^V$).\n",
    "\n",
    "$\n",
    "\\begin{equation*}\n",
    "X =\n",
    "\\begin{pmatrix}\n",
    "X^1 \\\\\n",
    "X^2 \\\\\n",
    "... \\\\\n",
    "X^d\n",
    "\\end{pmatrix}\n",
    "\\end{equation*}\n",
    "$ where $X^1, X^2, ..., X^d$ - $Embeddings$\n",
    "\n",
    "$X \\bullet W^Q = Q$, \n",
    "$\n",
    "\\begin{equation*}\n",
    "Q =\n",
    "\\begin{pmatrix}\n",
    "Q^1 \\\\\n",
    "Q^2 \\\\\n",
    "... \\\\\n",
    "Q^d\n",
    "\\end{pmatrix}\n",
    "\\end{equation*}\n",
    "$\n",
    "\n",
    "$X \\bullet W^K = K$,\n",
    "$\n",
    "\\begin{equation*}\n",
    "K =\n",
    "\\begin{pmatrix}\n",
    "K^1 \\\\\n",
    "K^2 \\\\\n",
    "... \\\\\n",
    "K^d\n",
    "\\end{pmatrix}\n",
    "\\end{equation*}\n",
    "$\n",
    "\n",
    "$X \\bullet W^V = V$,\n",
    "$\n",
    "\\begin{equation*}\n",
    "V =\n",
    "\\begin{pmatrix}\n",
    "V^1 \\\\\n",
    "V^2 \\\\\n",
    "... \\\\\n",
    "V^d\n",
    "\\end{pmatrix}\n",
    "\\end{equation*}\n",
    "$\n",
    "\n",
    "Finally:\n",
    "\n",
    "$softmax(\\frac{Q \\bullet K^T}{\\sqrt{d_k}}) \\cdot V = Z$\n",
    "\n",
    "$softmax = \\sigma(z)_i = \\frac{e^{z_i}}{\\sum^K_{k=1}{e^{z_k}}}$"
   ]
  },
  {
   "cell_type": "markdown",
   "metadata": {},
   "source": [
    "## Multi-Headed Attention\n",
    "The paper further refined the self-attention layer by adding a mechanism called “multi-headed” attention. This improves the performance of the attention layer in two ways:\n",
    "\n",
    "    * 1) It expands the model’s ability to focus on different positions. Yes, in the example above, z1 contains a little bit of every other encoding, but it could be dominated by the the actual word itself. It would be useful if we’re translating a sentence like “The animal didn’t cross the street because it was too tired”, we would want to know which word “it” refers to.\n",
    "\n",
    "    * 2) It gives the attention layer multiple “representation subspaces”. As we’ll see next, with multi-headed attention we have not only one, but multiple sets of Query/Key/Value weight matrices (the Transformer uses eight attention heads, so we end up with eight sets for each encoder/decoder). Each of these sets is randomly initialized. Then, after training, each set is used to project the input embeddings (or vectors from lower encoders/decoders) into a different representation subspace.\n",
    "\n",
    "In multi-attention paradigm:\n",
    "\n",
    "1) Input sequence.\n",
    "\n",
    "2) Embed each word to $X$\n",
    "\n",
    "* In all encoders other than 0, we don't need embedding. We start directly with the output of the encoder right velow this one.\n",
    "\n",
    "3) We have multiple $(Q_0, K_0, V_0), ..., (Q_0, K_n, V_n)$. We multiply $X$ or $R$ with weigh matrices.\n",
    "\n",
    "4) Calculate attention using the resulting $Q$/$K$/$V$ matrices. Then we have $(Z_1, Z_2, ..., Z_n)$ attentions.\n",
    "\n",
    "5) Now we concatenate all $Z_i$ and multiply concatenation on $W^0$ matrix.\n",
    "\n",
    "* Where $W^0$ is a weights matrix, that was trained with model."
   ]
  },
  {
   "cell_type": "markdown",
   "metadata": {},
   "source": [
    "## Trasformer Encoder:\n",
    "$(X_1, X_2, ..., X_n) \\to Self-Attention \\to Add-Normalize(X + Z) =  P \\to Feed-Forward \\to Add-Normalize(P + Feed-Forward-output)$"
   ]
  },
  {
   "cell_type": "markdown",
   "metadata": {},
   "source": [
    "## Transformer Decoder:\n",
    "The self attention layers in the decoder operate in a slightly different way than the one in the encoder:\n",
    "\n",
    "In the decoder, the self-attention layer is only allowed to attend to earlier positions in the output sequence. This is done by masking future positions (setting them to -inf) before the softmax step in the self-attention calculation.\n",
    "\n",
    "The “Encoder-Decoder Attention” layer works just like multiheaded self-attention, except it creates its Queries matrix from the layer below it, and takes the Keys and Values matrix from the output of the encoder stack."
   ]
  },
  {
   "cell_type": "code",
   "execution_count": null,
   "metadata": {},
   "outputs": [],
   "source": []
  }
 ],
 "metadata": {
  "kernelspec": {
   "display_name": "Python 3",
   "language": "python",
   "name": "python3"
  },
  "language_info": {
   "codemirror_mode": {
    "name": "ipython",
    "version": 3
   },
   "file_extension": ".py",
   "mimetype": "text/x-python",
   "name": "python",
   "nbconvert_exporter": "python",
   "pygments_lexer": "ipython3",
   "version": "3.7.5"
  }
 },
 "nbformat": 4,
 "nbformat_minor": 4
}
