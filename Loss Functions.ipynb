{
 "cells": [
  {
   "cell_type": "markdown",
   "metadata": {},
   "source": [
    "Функции потерь.\n",
    "Функции оценки\n",
    "В контексте технологии машинного обучения, оценка – это статистический термин для нахождения некоторого приближения неизвестного параметра на основе некоторых данных. Точечная оценка – это попытка найти единственное лучшее приближение некоторого количества интересующих нас параметров. Или на более формальном языке  **математической статистики — точечная оценка это число, оцениваемое на основе наблюдений, предположительно близкое к оцениваемому параметру.**\n",
    "\n",
    "Под количеством интересующих параметров обычно подразумевается:\n",
    "• Один параметр\n",
    "• Вектор параметров – например, веса в линейной регрессии\n",
    "• Целая функция"
   ]
  },
  {
   "cell_type": "code",
   "execution_count": 2,
   "metadata": {},
   "outputs": [
    {
     "name": "stderr",
     "output_type": "stream",
     "text": [
      "Using TensorFlow backend.\n"
     ]
    }
   ],
   "source": [
    "import tensorflow as tf\n",
    "import torch\n",
    "import keras"
   ]
  },
  {
   "cell_type": "markdown",
   "metadata": {},
   "source": [
    "### Классификация\n",
    "\n",
    "Classes\n",
    "class BinaryCrossentropy: Computes the cross-entropy loss between true labels and predicted labels.\n",
    "\n",
    "class CategoricalCrossentropy: Computes the crossentropy loss between the labels and predictions.\n",
    "\n",
    "class CategoricalHinge: Computes the categorical hinge loss between y_true and y_pred.\n",
    "\n",
    "class CosineSimilarity: Computes the cosine similarity between y_true and y_pred.\n",
    "\n",
    "class Hinge: Computes the hinge loss between y_true and y_pred.\n",
    "\n",
    "class Huber: Computes the Huber loss between y_true and y_pred.\n",
    "\n",
    "class KLDivergence: Computes Kullback-Leibler divergence loss between y_true and y_pred.\n",
    "\n",
    "class LogCosh: Computes the logarithm of the hyperbolic cosine of the prediction error.\n",
    "\n",
    "class Loss: Loss base class.\n"
   ]
  },
  {
   "cell_type": "markdown",
   "metadata": {},
   "source": [
    "**BinaryCrossentropy**: \n",
    "tf.nn.sigmoid_cross_entropy_with_logits. OK…what was logit(s) again? In mathematics, the logit function is the inverse of the sigmoid function, so in theory **logit(sigmoid(x)) = x**.\n",
    "\n",
    "sigmoid: $y=\\frac{1}{1+e^{-x}}$\n",
    "\n",
    "logit: $y=ln\\frac{x}{1-x}$"
   ]
  },
  {
   "cell_type": "code",
   "execution_count": 3,
   "metadata": {},
   "outputs": [],
   "source": [
    "def binary_crossentropy(target, output, from_logits=False):\n",
    "    \"\"\"Binary crossentropy between an output tensor and a target tensor.\n",
    "    # Arguments\n",
    "        target: A tensor with the same shape as `output`.\n",
    "        output: A tensor.\n",
    "        from_logits: Whether `output` is expected to be a logits tensor.\n",
    "            By default, we consider that `output`\n",
    "            encodes a probability distribution.\n",
    "    # Returns\n",
    "        A tensor.\n",
    "    \"\"\"\n",
    "    # Note: tf.nn.sigmoid_cross_entropy_with_logits\n",
    "    # expects logits, Keras expects probabilities.\n",
    "    if not from_logits:\n",
    "        # transform back to logits\n",
    "        _epsilon = _to_tensor(epsilon(), output.dtype.base_dtype)\n",
    "        output = tf.clip_by_value(output, _epsilon, 1 - _epsilon)\n",
    "        output = tf.log(output / (1 - output))\n",
    "\n",
    "    return tf.nn.sigmoid_cross_entropy_with_logits(labels=target,\n",
    "                                                   logits=output)"
   ]
  },
  {
   "cell_type": "markdown",
   "metadata": {},
   "source": [
    "### Регрессия\n",
    "\n",
    "class MeanAbsoluteError: Computes the mean of absolute difference between labels and predictions.\n",
    "\n",
    "class MeanAbsolutePercentageError: Computes the mean absolute percentage error between y_true and y_pred.\n",
    "\n",
    "class MeanSquaredError: Computes the mean of squares of errors between labels and predictions.\n",
    "\n",
    "class MeanSquaredLogarithmicError: Computes the mean squared logarithmic error between y_true and y_pred.\n",
    "\n",
    "class Poisson: Computes the Poisson loss between y_true and y_pred.\n",
    "\n",
    "class Reduction: Types of loss reduction.\n",
    "\n",
    "class SparseCategoricalCrossentropy: Computes the crossentropy loss between the labels and predictions.\n",
    "\n",
    "class SquaredHinge: Computes the squared hinge loss between y_true and y_pred."
   ]
  },
  {
   "cell_type": "code",
   "execution_count": null,
   "metadata": {},
   "outputs": [],
   "source": []
  }
 ],
 "metadata": {
  "kernelspec": {
   "display_name": "Python 3",
   "language": "python",
   "name": "python3"
  },
  "language_info": {
   "codemirror_mode": {
    "name": "ipython",
    "version": 3
   },
   "file_extension": ".py",
   "mimetype": "text/x-python",
   "name": "python",
   "nbconvert_exporter": "python",
   "pygments_lexer": "ipython3",
   "version": "3.7.5"
  }
 },
 "nbformat": 4,
 "nbformat_minor": 4
}
