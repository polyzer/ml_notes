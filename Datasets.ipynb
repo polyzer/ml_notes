{
 "cells": [
  {
   "cell_type": "markdown",
   "metadata": {},
   "source": [
    "Object Detection:\n",
    "[Face Rec](https://www.face-rec.org/databases/) FACE RECOGNITION HOMEPAGE DATABASES\n",
    "It's a list of databases for face detection and recognition (images + video)\n",
    "\n",
    "[Wider Face](http://shuoyang1213.me/WIDERFACE/) A Face Detection Benchmark\n"
   ]
  },
  {
   "cell_type": "code",
   "execution_count": null,
   "metadata": {},
   "outputs": [],
   "source": []
  }
 ],
 "metadata": {
  "kernelspec": {
   "display_name": "Python 3",
   "language": "python",
   "name": "python3"
  },
  "language_info": {
   "codemirror_mode": {
    "name": "ipython",
    "version": 3
   },
   "file_extension": ".py",
   "mimetype": "text/x-python",
   "name": "python",
   "nbconvert_exporter": "python",
   "pygments_lexer": "ipython3",
   "version": "3.7.5"
  }
 },
 "nbformat": 4,
 "nbformat_minor": 4
}
