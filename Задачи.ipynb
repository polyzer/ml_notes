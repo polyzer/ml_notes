{
 "cells": [
  {
   "cell_type": "markdown",
   "metadata": {},
   "source": [
    "Гмурман В. Е. - Теория вероятностей и математическая статистика"
   ]
  },
  {
   "cell_type": "markdown",
   "metadata": {},
   "source": [
    "## страница 36\n",
    "1.В денежно-вещевой лотерее на каждые 10 000 билетов  \n",
    "разыгрывается 150 вещевых и 50 денежных выигрышей. Чему равна  \n",
    "вероятность выигрыша, безразлично денежного или вещевого, для  \n",
    "владельца одного лотерейного билета?  "
   ]
  },
  {
   "cell_type": "code",
   "execution_count": 3,
   "metadata": {},
   "outputs": [
    {
     "data": {
      "text/plain": [
       "0.02"
      ]
     },
     "execution_count": 3,
     "metadata": {},
     "output_type": "execute_result"
    }
   ],
   "source": [
    "good_t = 150\n",
    "money_t = 50\n",
    "all_t = 10000\n",
    "p_good_or_money = (good_t + money_t) / all_t\n",
    "p_good_or_money"
   ]
  },
  {
   "cell_type": "markdown",
   "metadata": {},
   "source": [
    "2.Вероятность того, что стрелок при одном выстреле выбьет\n",
    "10 очков, равна 0,1; вероятность выбить 9 очков равна 0,3; вероят-\n",
    "вероятность выбить 8 или меньше очков равна 0,6. Найти вероятность\n",
    "того, что при одном выстреле стрелок выбьет не менее 9 очков."
   ]
  },
  {
   "cell_type": "code",
   "execution_count": 4,
   "metadata": {},
   "outputs": [
    {
     "data": {
      "text/plain": [
       "0.4"
      ]
     },
     "execution_count": 4,
     "metadata": {},
     "output_type": "execute_result"
    }
   ],
   "source": [
    "0.1 + 0.3"
   ]
  },
  {
   "cell_type": "markdown",
   "metadata": {},
   "source": [
    "3.В партии из 10 деталей 8 стандартных. Найти вероятность\n",
    "того, что среди наудачу извлеченных 2 деталей есть хотя бы одна\n",
    "стандартная."
   ]
  },
  {
   "cell_type": "code",
   "execution_count": 11,
   "metadata": {},
   "outputs": [
    {
     "data": {
      "text/plain": [
       "0.9777777777777777"
      ]
     },
     "execution_count": 11,
     "metadata": {},
     "output_type": "execute_result"
    }
   ],
   "source": [
    "p = 1 - (2/10 * 1/9)\n",
    "p"
   ]
  },
  {
   "cell_type": "markdown",
   "metadata": {},
   "source": [
    "4.В ящике 10 деталей, среди которых 2 нестандартных. Найти\n",
    "вероятность того, что в наудачу отобранных 6 деталях окажется не\n",
    "более одной нестандартной детали."
   ]
  },
  {
   "cell_type": "code",
   "execution_count": null,
   "metadata": {},
   "outputs": [],
   "source": [
    "p = ()/(10)"
   ]
  }
 ],
 "metadata": {
  "kernelspec": {
   "display_name": "Python 3",
   "language": "python",
   "name": "python3"
  },
  "language_info": {
   "codemirror_mode": {
    "name": "ipython",
    "version": 3
   },
   "file_extension": ".py",
   "mimetype": "text/x-python",
   "name": "python",
   "nbconvert_exporter": "python",
   "pygments_lexer": "ipython3",
   "version": "3.7.5"
  }
 },
 "nbformat": 4,
 "nbformat_minor": 4
}
