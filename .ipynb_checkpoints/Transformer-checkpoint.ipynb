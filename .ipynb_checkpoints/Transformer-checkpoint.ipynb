{
 "cells": [
  {
   "cell_type": "markdown",
   "metadata": {},
   "source": [
    "Transformer Architecture.\n",
    "In general terms Transformer consists of Encoder and Decoder parts.\n"
   ]
  },
  {
   "cell_type": "markdown",
   "metadata": {},
   "source": [
    "Attention:"
   ]
  },
  {
   "cell_type": "markdown",
   "metadata": {},
   "source": [
    "## Self-Attention.\n",
    "Calculation of Self-Attension consists of next parts:\n",
    "* 1) The first step in calculating self-attention is to create three vectors from each of the encoder’s input vectors (in this case, the embedding of each word). So for each word, we create a **Query vector, a Key vector, and a Value vector**. These vectors are created by multiplying the embedding by three matrices that we trained during the training process.\n",
    "\n",
    "Notice that these new vectors are smaller in dimension than the embedding vector. Their dimensionality is 64, while the embedding and encoder input/output vectors have dimensionality of 512. They don’t HAVE to be smaller, this is an architecture choice to make the computation of multiheaded attention (mostly) constant.\n",
    "\n",
    "Example:\n",
    "Input -> Embeddings (words to $X^1, ... , X^n$\n",
    "\n",
    "Embeddings -> $X1 \\cdot W^Q $  (product $Embeddings \\cdot W^Q\n",
    "matrix) -> query$\n",
    "\n",
    "Embeddings -> $X1 \\cdot W^K $  (product $Embeddings \\cdot W^K\n",
    "matrix) -> key$\n",
    "\n",
    "Embeddings -> $X1 \\cdot W^V $  (product $Embeddings \\cdot W^V\n",
    "matrix) -> value$\n",
    "\n",
    "* 2) The second step in calculating self-attention is to calculate a score. Say we’re calculating the self-attention for the first word in this example, “Thinking”. We need to score each word of the input sentence against this word. The score determines how much focus to place on other parts of the input sentence as we encode a word at a certain position.\n",
    "\n",
    "The score is calculated by taking the **dot product of the query vector with the key vector of the respective word we’re scoring**. So if we’re processing the self-attention for the word in position #1, the first score would be the dot product of q1 and k1. The second score would be the dot product of q1 and k2.\n",
    "\n",
    "* 3) The third and forth steps are to divide the scores by 8 (the square root of the dimension of the key vectors used in the paper – 64. This leads to having more stable gradients. There could be other possible values here, but this is the default), then pass the result through a softmax operation. **Softmax normalizes the scores so they’re all positive and add up to 1.**\n",
    "\n",
    "* 4) The fifth step is to multiply each value vector by the softmax score (in preparation to sum them up). The intuition here is to keep intact the values of the word(s) we want to focus on, and drown-out irrelevant words (by multiplying them by tiny numbers like 0.001, for example).\n",
    "\n",
    "* 5) The sixth step is to sum up the weighted value vectors. This produces the output of the self-attention layer at this position (for the first word)."
   ]
  },
  {
   "cell_type": "markdown",
   "metadata": {},
   "source": [
    "Matrix Calculation of Self-Attention:\n",
    "* The first step is to calculate the **Query, Key, and Value** matrices. We do that by packing our embeddings into a matrix X, and multiplying it by the weight matrices we’ve trained ($W^Q, W^K, W^V$).\n",
    "\n",
    "$\n",
    "\\begin{equation*}\n",
    "X =\n",
    "\\begin{pmatrix}\n",
    "X^1 \\\\\n",
    "X^2 \\\\\n",
    "... \\\\\n",
    "X^d\n",
    "\\end{pmatrix}\n",
    "\\end{equation*}\n",
    "$ where $X^1, X^2, ..., X^d$ - $Embeddings$\n",
    "\n",
    "$X \\bullet W^Q = Q$, \n",
    "$\n",
    "\\begin{equation*}\n",
    "Q =\n",
    "\\begin{pmatrix}\n",
    "Q^1 \\\\\n",
    "Q^2 \\\\\n",
    "... \\\\\n",
    "Q^d\n",
    "\\end{pmatrix}\n",
    "\\end{equation*}\n",
    "$\n",
    "\n",
    "$X \\bullet W^K = K$,\n",
    "$\n",
    "\\begin{equation*}\n",
    "K =\n",
    "\\begin{pmatrix}\n",
    "K^1 \\\\\n",
    "K^2 \\\\\n",
    "... \\\\\n",
    "K^d\n",
    "\\end{pmatrix}\n",
    "\\end{equation*}\n",
    "$\n",
    "\n",
    "$X \\bullet W^V = V$,\n",
    "$\n",
    "\\begin{equation*}\n",
    "V =\n",
    "\\begin{pmatrix}\n",
    "V^1 \\\\\n",
    "V^2 \\\\\n",
    "... \\\\\n",
    "V^d\n",
    "\\end{pmatrix}\n",
    "\\end{equation*}\n",
    "$\n",
    "\n",
    "Finally:\n",
    "\n",
    "$softmax(\\frac{Q \\bullet K^T}{\\sqrt{K_k}}) \\cdot V = Z$\n",
    "\n",
    "$softmax = \\sigma(z)_i = \\frac{e^{z_i}}{\\sum^K_{k=1}{e^{z_k}}}$"
   ]
  },
  {
   "cell_type": "code",
   "execution_count": null,
   "metadata": {},
   "outputs": [],
   "source": []
  }
 ],
 "metadata": {
  "kernelspec": {
   "display_name": "Python 3",
   "language": "python",
   "name": "python3"
  },
  "language_info": {
   "codemirror_mode": {
    "name": "ipython",
    "version": 3
   },
   "file_extension": ".py",
   "mimetype": "text/x-python",
   "name": "python",
   "nbconvert_exporter": "python",
   "pygments_lexer": "ipython3",
   "version": "3.7.5"
  }
 },
 "nbformat": 4,
 "nbformat_minor": 4
}
