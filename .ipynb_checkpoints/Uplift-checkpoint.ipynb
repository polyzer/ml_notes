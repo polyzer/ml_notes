{
 "cells": [
  {
   "cell_type": "markdown",
   "metadata": {},
   "source": [
    "[Uplift1](https://habr.com/ru/company/ru_mts/blog/485980/)\n",
    "[Uplift2](https://habr.com/ru/company/ru_mts/blog/485976/)"
   ]
  },
  {
   "cell_type": "markdown",
   "metadata": {},
   "source": [
    "Uplift (аплифт) — это модель воздействия на поведение потребителя, которая помогает оптимизировать маркетинговые решения.   \n",
    "\n",
    "Она позволяет запланировать и вовремя предложить акции и особые цены тем людям, кому они нужны и выгодны.  \n",
    "Uplift для каждого потенциального участника промоакции вычисляется как разница между прогнозами вероятности покупки: если предложить человеку скидку и если не давать ее.\n",
    "\n",
    "\n",
    "Источник: https://robo-hunter.com/news/model-uplift-kak-magazini-reshayt-davat-klientam-skidku-ili-net14668 © robo-hunter.com"
   ]
  },
  {
   "cell_type": "markdown",
   "metadata": {},
   "source": [
    "Look-alike модель оценивает вероятность того, что клиент выполнит целевое действие. В качестве обучающей выборки используются известные позитивные объекты (например, пользователи, установившие приложение) и случайные негативные объекты (сэмплирование небольшой подвыборки из всех остальных клиентов, у кого это приложение не было установлено). Модель будет пытаться искать клиентов, похожих на тех, кто совершил целевое действие."
   ]
  },
  {
   "cell_type": "code",
   "execution_count": null,
   "metadata": {},
   "outputs": [],
   "source": []
  }
 ],
 "metadata": {
  "kernelspec": {
   "display_name": "Python 3",
   "language": "python",
   "name": "python3"
  },
  "language_info": {
   "codemirror_mode": {
    "name": "ipython",
    "version": 3
   },
   "file_extension": ".py",
   "mimetype": "text/x-python",
   "name": "python",
   "nbconvert_exporter": "python",
   "pygments_lexer": "ipython3",
   "version": "3.7.5"
  }
 },
 "nbformat": 4,
 "nbformat_minor": 4
}
